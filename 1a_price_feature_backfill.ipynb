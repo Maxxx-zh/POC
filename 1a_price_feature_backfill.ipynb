{
 "cells": [
  {
   "cell_type": "markdown",
   "id": "3e80dec4",
   "metadata": {},
   "source": [
    "## <span style=\"color:#ff5f27\">📝 Imports </span>"
   ]
  },
  {
   "cell_type": "code",
   "execution_count": null,
   "id": "27d37094",
   "metadata": {},
   "outputs": [],
   "source": [
    "import datetime\n",
    "from features.price import generate_historical_data, to_wide_format, plot_historical_id\n",
    "\n",
    "import great_expectations as ge\n",
    "from great_expectations.core import ExpectationSuite, ExpectationConfiguration"
   ]
  },
  {
   "cell_type": "markdown",
   "id": "cfae4d6e",
   "metadata": {},
   "source": [
    "## <span style=\"color:#ff5f27\">⚙️ Data Generation </span>"
   ]
  },
  {
   "cell_type": "code",
   "execution_count": null,
   "id": "b610580b",
   "metadata": {},
   "outputs": [],
   "source": [
    "data_generated = generate_historical_data(\n",
    "    datetime.date(2022, 9, 1),\n",
    ")\n",
    "data_generated.head(3)"
   ]
  },
  {
   "cell_type": "code",
   "execution_count": null,
   "id": "5e229269",
   "metadata": {},
   "outputs": [],
   "source": [
    "plot_historical_id([1,2], data_generated)"
   ]
  },
  {
   "cell_type": "markdown",
   "id": "c83e00ef",
   "metadata": {},
   "source": [
    "## <span style=\"color:#ff5f27\"> 👮🏻‍♂️ Great Expectations </span>"
   ]
  },
  {
   "cell_type": "code",
   "execution_count": null,
   "id": "4d644fc1",
   "metadata": {},
   "outputs": [],
   "source": [
    "ge_price_df = ge.from_pandas(data_generated)\n",
    "expectation_suite_price = ge_price_df.get_expectation_suite()\n",
    "expectation_suite_price.expectation_suite_name = \"price_suite\""
   ]
  },
  {
   "cell_type": "code",
   "execution_count": null,
   "id": "21ea95d9",
   "metadata": {},
   "outputs": [],
   "source": [
    "expectation_suite_price.add_expectation(\n",
    "    ExpectationConfiguration(\n",
    "        expectation_type=\"expect_column_values_to_be_between\",\n",
    "        kwargs={\n",
    "            \"column\": \"id\",\n",
    "            \"min_value\": 0,\n",
    "            \"max_value\": 1000,\n",
    "        }\n",
    "    )\n",
    ")\n",
    "\n",
    "expectation_suite_price.add_expectation(\n",
    "    ExpectationConfiguration(\n",
    "        expectation_type=\"expect_column_values_to_be_between\",\n",
    "        kwargs={\n",
    "            \"column\": \"price\",\n",
    "            \"min_value\": 0,\n",
    "            \"max_value\": 1000,\n",
    "        }\n",
    "    )\n",
    ")\n",
    "\n",
    "for column in ['date', 'id', 'price']:\n",
    "    expectation_suite_price.add_expectation(\n",
    "        ExpectationConfiguration(\n",
    "            expectation_type=\"expect_column_values_to_be_null\",\n",
    "            kwargs={\n",
    "                \"column\": column,\n",
    "                \"mostly\": 0.0,\n",
    "            }\n",
    "        )\n",
    "    )"
   ]
  },
  {
   "cell_type": "markdown",
   "id": "6148b5e6",
   "metadata": {},
   "source": [
    "## <span style=\"color:#ff5f27\">🔮 Connect to Hopsworks Feature Store </span>"
   ]
  },
  {
   "cell_type": "code",
   "execution_count": null,
   "id": "e8d98244",
   "metadata": {},
   "outputs": [],
   "source": [
    "import hopsworks\n",
    "\n",
    "project = hopsworks.login()\n",
    "\n",
    "fs = project.get_feature_store() "
   ]
  },
  {
   "cell_type": "markdown",
   "id": "9471bceb",
   "metadata": {},
   "source": [
    "## <span style=\"color:#ff5f27\">🪄 Feature Group Creation </span>"
   ]
  },
  {
   "cell_type": "code",
   "execution_count": null,
   "id": "b13b302d",
   "metadata": {},
   "outputs": [],
   "source": [
    "prices_fg = fs.get_or_create_feature_group(\n",
    "    name='prices',\n",
    "    description='Prices Data',\n",
    "    version=1,\n",
    "    primary_key=['id'],\n",
    "    event_time='date',\n",
    "    online_enabled=True,\n",
    "    expectation_suite=expectation_suite_price,\n",
    ")    \n",
    "prices_fg.insert(data_generated)"
   ]
  },
  {
   "cell_type": "markdown",
   "id": "d46f8a6b",
   "metadata": {},
   "source": [
    "## <span style=\"color:#ff5f27\"> 👩🏻‍🔬 Data Transformation to Wide Format </span>"
   ]
  },
  {
   "cell_type": "code",
   "execution_count": null,
   "id": "05d1f67f",
   "metadata": {},
   "outputs": [],
   "source": [
    "prices_fg = fs.get_or_create_feature_group(\n",
    "    name='prices',\n",
    "    version=1,\n",
    ")\n",
    "prices_df = prices_fg.read()\n",
    "prices_df.head(5)"
   ]
  },
  {
   "cell_type": "code",
   "execution_count": null,
   "id": "3ca4e8f1",
   "metadata": {},
   "outputs": [],
   "source": [
    "prices_df_wide = to_wide_format(prices_df)\n",
    "prices_df_wide.head(3)"
   ]
  },
  {
   "cell_type": "code",
   "execution_count": null,
   "id": "d9369cf4",
   "metadata": {},
   "outputs": [],
   "source": [
    "prices_df_wide.isna().sum()[prices_df_wide.isna().sum() > 0]"
   ]
  },
  {
   "cell_type": "markdown",
   "id": "b7ad450b",
   "metadata": {},
   "source": [
    "---"
   ]
  }
 ],
 "metadata": {
  "kernelspec": {
   "display_name": "Python 3 (ipykernel)",
   "language": "python",
   "name": "python3"
  },
  "language_info": {
   "codemirror_mode": {
    "name": "ipython",
    "version": 3
   },
   "file_extension": ".py",
   "mimetype": "text/x-python",
   "name": "python",
   "nbconvert_exporter": "python",
   "pygments_lexer": "ipython3",
   "version": "3.9.13"
  }
 },
 "nbformat": 4,
 "nbformat_minor": 5
}
