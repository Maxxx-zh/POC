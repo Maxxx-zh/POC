{
 "cells": [
  {
   "cell_type": "markdown",
   "id": "0d8743ff",
   "metadata": {},
   "source": [
    "## <span style=\"color:#ff5f27\">📝 Imports </span>"
   ]
  },
  {
   "cell_type": "code",
   "execution_count": null,
   "id": "02b43ef1",
   "metadata": {},
   "outputs": [],
   "source": [
    "from datetime import datetime, timedelta\n",
    "from features.averages import calculate_second_order_features"
   ]
  },
  {
   "cell_type": "markdown",
   "id": "b95d1a6d",
   "metadata": {},
   "source": [
    "## <span style=\"color:#ff5f27\">🔮 Connect to Hopsworks Feature Store </span>"
   ]
  },
  {
   "cell_type": "code",
   "execution_count": null,
   "id": "da51a0da",
   "metadata": {},
   "outputs": [],
   "source": [
    "import hopsworks\n",
    "\n",
    "project = hopsworks.login()\n",
    "\n",
    "fs = project.get_feature_store() "
   ]
  },
  {
   "cell_type": "markdown",
   "id": "fea76b8b",
   "metadata": {},
   "source": [
    "## <span style=\"color:#ff5f27\">🗄️ Read Data from Feature Group </span>"
   ]
  },
  {
   "cell_type": "code",
   "execution_count": null,
   "id": "22cd098e",
   "metadata": {},
   "outputs": [],
   "source": [
    "averages_fg = fs.get_or_create_feature_group(\n",
    "    name='averages',\n",
    "    version=1,\n",
    ")\n",
    "\n",
    "prices_fg = fs.get_or_create_feature_group(\n",
    "    name='prices',\n",
    "    version=1,\n",
    ")"
   ]
  },
  {
   "cell_type": "code",
   "execution_count": null,
   "id": "58506b13",
   "metadata": {},
   "outputs": [],
   "source": [
    "# Get today's date\n",
    "today = datetime.today()\n",
    "\n",
    "# Calculate the date 30 days ago\n",
    "thirty_days_ago = (today - timedelta(days=31)).strftime(\"%Y-%m-%d\")\n",
    "\n",
    "# Read data for 30 days ago\n",
    "month_price_data = prices_fg.filter(prices_fg.date >= thirty_days_ago).read()\n",
    "month_price_data.head()"
   ]
  },
  {
   "cell_type": "markdown",
   "id": "265e7d4f",
   "metadata": {},
   "source": [
    "## <span style=\"color:#ff5f27\">⚙️ Feature Engineering for Today's date </span>"
   ]
  },
  {
   "cell_type": "code",
   "execution_count": null,
   "id": "ef263ad0",
   "metadata": {},
   "outputs": [],
   "source": [
    "averages_df = calculate_second_order_features(month_price_data)\n",
    "averages_today = averages_df[averages_df.date == today.strftime(\"%Y-%m-%d\")]\n",
    "averages_today.head()"
   ]
  },
  {
   "cell_type": "markdown",
   "id": "96439964",
   "metadata": {},
   "source": [
    "## <span style=\"color:#ff5f27\">⬆️ Upload new data to the Feature Store </span>"
   ]
  },
  {
   "cell_type": "code",
   "execution_count": null,
   "id": "5066285e",
   "metadata": {},
   "outputs": [],
   "source": [
    "averages_fg.insert(averages_today)"
   ]
  },
  {
   "cell_type": "markdown",
   "id": "85c63bb8",
   "metadata": {},
   "source": [
    "---"
   ]
  }
 ],
 "metadata": {
  "kernelspec": {
   "display_name": "Python 3 (ipykernel)",
   "language": "python",
   "name": "python3"
  },
  "language_info": {
   "codemirror_mode": {
    "name": "ipython",
    "version": 3
   },
   "file_extension": ".py",
   "mimetype": "text/x-python",
   "name": "python",
   "nbconvert_exporter": "python",
   "pygments_lexer": "ipython3",
   "version": "3.9.13"
  }
 },
 "nbformat": 4,
 "nbformat_minor": 5
}
