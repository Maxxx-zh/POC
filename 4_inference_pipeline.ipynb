{
 "cells": [
  {
   "cell_type": "markdown",
   "id": "f51eafb0",
   "metadata": {},
   "source": [
    "## <span style=\"color:#ff5f27\">📝 Imports </span>"
   ]
  },
  {
   "cell_type": "code",
   "execution_count": null,
   "id": "81be0b65",
   "metadata": {},
   "outputs": [],
   "source": [
    "import joblib\n",
    "import pandas as pd\n",
    "from functions import to_df"
   ]
  },
  {
   "cell_type": "markdown",
   "id": "66ee0f87",
   "metadata": {},
   "source": [
    "## <span style=\"color:#ff5f27\">🔮 Connect to Hopsworks Feature Store </span>"
   ]
  },
  {
   "cell_type": "code",
   "execution_count": null,
   "id": "e9495217",
   "metadata": {},
   "outputs": [],
   "source": [
    "import hopsworks\n",
    "\n",
    "project = hopsworks.login()\n",
    "\n",
    "fs = project.get_feature_store()\n",
    "\n",
    "mr = project.get_model_registry()"
   ]
  },
  {
   "cell_type": "markdown",
   "id": "da66d3cb",
   "metadata": {},
   "source": [
    "## <span style=\"color:#ff5f27\">⚙️ Feature View Retrieval </span>"
   ]
  },
  {
   "cell_type": "code",
   "execution_count": null,
   "id": "42420557",
   "metadata": {},
   "outputs": [],
   "source": [
    "feature_view = fs.get_feature_view(\n",
    "    name='price_fv',\n",
    "    version=1,\n",
    ")"
   ]
  },
  {
   "cell_type": "markdown",
   "id": "d003da46",
   "metadata": {},
   "source": [
    "## <span style=\"color:#ff5f27\">🚀 Fetch the model </span>"
   ]
  },
  {
   "cell_type": "code",
   "execution_count": null,
   "id": "4f63364b",
   "metadata": {},
   "outputs": [],
   "source": [
    "retrieved_model = mr.get_model(\n",
    "    name=\"xgboost_price_model\",\n",
    "    version=1,\n",
    ")\n",
    "saved_model_dir = retrieved_model.download()"
   ]
  },
  {
   "cell_type": "code",
   "execution_count": null,
   "id": "044ba8ad",
   "metadata": {},
   "outputs": [],
   "source": [
    "model = joblib.load(saved_model_dir + \"/xgboost_price_model.pkl\")\n",
    "model"
   ]
  },
  {
   "cell_type": "markdown",
   "id": "e0a2b7ae",
   "metadata": {},
   "source": [
    "## <span style=\"color:#ff5f27\">👨🏻‍⚖️ Real-time Predictions </span>"
   ]
  },
  {
   "cell_type": "code",
   "execution_count": null,
   "id": "a41faf14",
   "metadata": {},
   "outputs": [],
   "source": [
    "# Initialise feature view to retrieve feature vector\n",
    "feature_view.init_serving(1)\n",
    "\n",
    "# Retrieve a feature vector\n",
    "feature_vector = feature_view.get_feature_vector(\n",
    "    entry = {\n",
    "        \"id\": 1,\n",
    "        \"date\": '2023-09-26',\n",
    "    }\n",
    ")\n",
    "feature_vector"
   ]
  },
  {
   "cell_type": "code",
   "execution_count": null,
   "id": "73042fda",
   "metadata": {},
   "outputs": [],
   "source": [
    "feature_vector_df = to_df(feature_vector)\n",
    "feature_vector_df"
   ]
  },
  {
   "cell_type": "code",
   "execution_count": null,
   "id": "476cf4d5",
   "metadata": {},
   "outputs": [],
   "source": [
    "# Predict transformed feature vector using retrieved model\n",
    "prediction_feature_vector = model.predict(feature_vector_df)\n",
    "prediction_feature_vector"
   ]
  },
  {
   "cell_type": "code",
   "execution_count": null,
   "id": "a3af8887",
   "metadata": {},
   "outputs": [],
   "source": [
    "# Retrieve feature vectors\n",
    "feature_vectors = feature_view.get_feature_vectors(\n",
    "    entry = [\n",
    "        {\"id\": 1, \"date\": '2023-09-26'},\n",
    "        {\"id\": 2, \"date\": '2023-09-26'}\n",
    "    ]\n",
    ")\n",
    "feature_vectors"
   ]
  },
  {
   "cell_type": "code",
   "execution_count": null,
   "id": "2ba9670e",
   "metadata": {},
   "outputs": [],
   "source": [
    "feature_vectors_df = to_df(feature_vectors)\n",
    "feature_vectors_df"
   ]
  },
  {
   "cell_type": "code",
   "execution_count": null,
   "id": "d05d011a",
   "metadata": {},
   "outputs": [],
   "source": [
    "# Predict feature vectors df using retrieved model\n",
    "prediction_feature_vectors = model.predict(feature_vectors_df)\n",
    "prediction_feature_vectors"
   ]
  },
  {
   "cell_type": "markdown",
   "id": "f96455aa",
   "metadata": {},
   "source": [
    "## <span style=\"color:#ff5f27\">👨🏻‍⚖️ Batch Prediction </span>"
   ]
  },
  {
   "cell_type": "code",
   "execution_count": null,
   "id": "44272b50",
   "metadata": {},
   "outputs": [],
   "source": [
    "# Initialise feature view to retrieve batch data\n",
    "feature_view.init_batch_scoring(training_dataset_version=1)\n",
    "\n",
    "# Retrieve batch data\n",
    "batch_data = feature_view.get_batch_data(\n",
    "    start_time='2023-09-01',\n",
    "    end_time='2023-09-26',\n",
    ")\n",
    "batch_data.head(3)"
   ]
  },
  {
   "cell_type": "code",
   "execution_count": null,
   "id": "f66fd73d",
   "metadata": {},
   "outputs": [],
   "source": [
    "# Predict batch data using retrieved model\n",
    "batch_data.drop('date', axis=1, inplace=True)\n",
    "predictions_batch = model.predict(batch_data)\n",
    "predictions_batch[:10]"
   ]
  },
  {
   "cell_type": "markdown",
   "id": "f18fb5d7",
   "metadata": {},
   "source": [
    "---"
   ]
  }
 ],
 "metadata": {
  "kernelspec": {
   "display_name": "Python 3 (ipykernel)",
   "language": "python",
   "name": "python3"
  },
  "language_info": {
   "codemirror_mode": {
    "name": "ipython",
    "version": 3
   },
   "file_extension": ".py",
   "mimetype": "text/x-python",
   "name": "python",
   "nbconvert_exporter": "python",
   "pygments_lexer": "ipython3",
   "version": "3.9.13"
  }
 },
 "nbformat": 4,
 "nbformat_minor": 5
}
