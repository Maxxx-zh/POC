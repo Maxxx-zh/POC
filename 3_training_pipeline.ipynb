{
 "cells": [
  {
   "cell_type": "markdown",
   "id": "6c56e407",
   "metadata": {},
   "source": [
    "## <span style=\"color:#ff5f27\">📝 Imports </span>"
   ]
  },
  {
   "cell_type": "code",
   "execution_count": null,
   "id": "1dd900af",
   "metadata": {},
   "outputs": [],
   "source": [
    "import pandas as pd\n",
    "import numpy as np\n",
    "import xgboost as xgb\n",
    "from sklearn.metrics import mean_squared_error\n",
    "import os\n",
    "import joblib\n",
    "from features.price import plot_prediction_test\n",
    "from functions import predict_id"
   ]
  },
  {
   "cell_type": "markdown",
   "id": "4397c069",
   "metadata": {},
   "source": [
    "## <span style=\"color:#ff5f27\">🔮 Connect to Hopsworks Feature Store </span>"
   ]
  },
  {
   "cell_type": "code",
   "execution_count": null,
   "id": "1a928aae",
   "metadata": {},
   "outputs": [],
   "source": [
    "import hopsworks\n",
    "\n",
    "project = hopsworks.login()\n",
    "\n",
    "fs = project.get_feature_store() "
   ]
  },
  {
   "cell_type": "code",
   "execution_count": null,
   "id": "ae9a2fa2",
   "metadata": {},
   "outputs": [],
   "source": [
    "averages_fg = fs.get_or_create_feature_group(\n",
    "    name='averages',\n",
    "    version=1,\n",
    ")\n",
    "\n",
    "prices_fg = fs.get_or_create_feature_group(\n",
    "    name='prices',\n",
    "    version=1,\n",
    ")"
   ]
  },
  {
   "cell_type": "markdown",
   "id": "b8102d06",
   "metadata": {},
   "source": [
    "## <span style=\"color:#ff5f27\">🔪 Feature Selection </span>"
   ]
  },
  {
   "cell_type": "code",
   "execution_count": null,
   "id": "3891d471",
   "metadata": {},
   "outputs": [],
   "source": [
    "query = prices_fg.select_all() \\\n",
    "    .join(averages_fg.select_except(['date']))\n",
    "query.show(5)"
   ]
  },
  {
   "cell_type": "markdown",
   "id": "de58549d",
   "metadata": {},
   "source": [
    "## <span style=\"color:#ff5f27\">🤖 Transformation Functions </span>"
   ]
  },
  {
   "cell_type": "code",
   "execution_count": null,
   "id": "c6355d3c",
   "metadata": {},
   "outputs": [],
   "source": [
    "# Load transformation function\n",
    "min_max_scaler = fs.get_transformation_function(name=\"min_max_scaler\")\n",
    "\n",
    "feature_names = [\n",
    "    'ma_7', 'ma_14', 'ma_30', 'daily_rate_of_change', 'volatility_30_day', 'ema_02', 'ema_05', 'rsi'\n",
    "]\n",
    "\n",
    "# Map features to transformations\n",
    "transformation_functions = {\n",
    "    feature_name: min_max_scaler\n",
    "    for feature_name in feature_names\n",
    "}\n",
    "transformation_functions"
   ]
  },
  {
   "cell_type": "markdown",
   "id": "1808514c",
   "metadata": {},
   "source": [
    "## <span style=\"color:#ff5f27\">⚙️ Feature View Creation </span>"
   ]
  },
  {
   "cell_type": "code",
   "execution_count": null,
   "id": "b16ade33",
   "metadata": {},
   "outputs": [],
   "source": [
    "feature_view = fs.get_or_create_feature_view(\n",
    "    name='price_fv',\n",
    "    version=1,\n",
    "    query=query,\n",
    "    labels=[\"price\"],\n",
    "    transformation_functions=transformation_functions,\n",
    ")"
   ]
  },
  {
   "cell_type": "markdown",
   "id": "fdf7a927",
   "metadata": {},
   "source": [
    "## <span style=\"color:#ff5f27\">🏋️ Training Dataset Creation </span>"
   ]
  },
  {
   "cell_type": "code",
   "execution_count": null,
   "id": "95615234",
   "metadata": {},
   "outputs": [],
   "source": [
    "td_version, td_job = feature_view.create_train_test_split(\n",
    "    description='Prices Dataset',\n",
    "    train_start='2022-09-01',\n",
    "    train_end='2023-07-01',\n",
    "    test_start='2023-07-01',\n",
    "    test_end=datetime.today().strftime(\"%Y-%m-%d\"),\n",
    "    data_format='csv',\n",
    "    write_options={'wait_for_job': True},\n",
    ")"
   ]
  },
  {
   "cell_type": "code",
   "execution_count": null,
   "id": "5a78a961",
   "metadata": {},
   "outputs": [],
   "source": [
    "X_train, X_test, y_train, y_test = feature_view.get_train_test_split(td_version)"
   ]
  },
  {
   "cell_type": "code",
   "execution_count": null,
   "id": "1aecf01b",
   "metadata": {},
   "outputs": [],
   "source": [
    "X_train.head()"
   ]
  },
  {
   "cell_type": "code",
   "execution_count": null,
   "id": "d90cc12a",
   "metadata": {},
   "outputs": [],
   "source": [
    "y_train.head()"
   ]
  },
  {
   "cell_type": "code",
   "execution_count": null,
   "id": "05d02fe4",
   "metadata": {},
   "outputs": [],
   "source": [
    "X_train = X_train.sort_values(\"date\")\n",
    "y_train = y_train.reindex(X_train.index)\n",
    "\n",
    "X_test = X_test.sort_values(\"date\")\n",
    "y_test = y_test.reindex(X_test.index)\n",
    "\n",
    "train_date = pd.DataFrame(X_train.pop(\"date\"))\n",
    "test_date = pd.DataFrame(X_test.pop(\"date\"))"
   ]
  },
  {
   "cell_type": "markdown",
   "id": "3aeab5b9",
   "metadata": {},
   "source": [
    "## <span style=\"color:#ff5f27\">🧬 Modeling </span>"
   ]
  },
  {
   "cell_type": "code",
   "execution_count": null,
   "id": "b71e8448",
   "metadata": {},
   "outputs": [],
   "source": [
    "# Initialize the XGBoost regressor\n",
    "model = xgb.XGBRegressor()\n",
    "\n",
    "# Train the model on the training data\n",
    "model.fit(X_train, y_train)\n",
    "\n",
    "# Make predictions on the validation set\n",
    "y_test_pred = model.predict(X_test)\n",
    "\n",
    "# Calculate RMSE on the validation set\n",
    "mse = mean_squared_error(y_test, y_test_pred, squared=False)\n",
    "print(f\"Mean Squared Error (MSE): {mse}\")"
   ]
  },
  {
   "cell_type": "code",
   "execution_count": null,
   "id": "868c9202",
   "metadata": {},
   "outputs": [],
   "source": [
    "prediction_for_id = predict_id(1, X_test, model)\n",
    "\n",
    "plot_prediction_test(1, X_train, X_test, y_train, y_test, train_date, test_date, prediction_for_id)"
   ]
  },
  {
   "cell_type": "markdown",
   "id": "bc6e8ba3",
   "metadata": {},
   "source": [
    "## <span style=\"color:#ff5f27\">⚙️ Model Schema </span>"
   ]
  },
  {
   "cell_type": "code",
   "execution_count": null,
   "id": "de422acf",
   "metadata": {},
   "outputs": [],
   "source": [
    "from hsml.schema import Schema\n",
    "from hsml.model_schema import ModelSchema\n",
    "\n",
    "input_schema = Schema(X_train.values)\n",
    "output_schema = Schema(y_train)\n",
    "model_schema = ModelSchema(input_schema=input_schema, output_schema=output_schema)\n",
    "\n",
    "model_schema.to_dict()"
   ]
  },
  {
   "cell_type": "markdown",
   "id": "cc799f5f",
   "metadata": {},
   "source": [
    "## <span style=\"color:#ff5f27\">📝 Register model </span>"
   ]
  },
  {
   "cell_type": "code",
   "execution_count": null,
   "id": "cc42b4b4",
   "metadata": {},
   "outputs": [],
   "source": [
    "model_dir=\"price_model\"\n",
    "if os.path.isdir(model_dir) == False:\n",
    "    os.mkdir(model_dir)\n",
    "\n",
    "joblib.dump(model, model_dir + '/xgboost_price_model.pkl')"
   ]
  },
  {
   "cell_type": "code",
   "execution_count": null,
   "id": "99faff7b",
   "metadata": {},
   "outputs": [],
   "source": [
    "mr = project.get_model_registry()\n",
    "\n",
    "price_model = mr.python.create_model(\n",
    "    name=\"xgboost_price_model\", \n",
    "    metrics={\"MSE\": mse},\n",
    "    model_schema=model_schema,\n",
    "    input_example=X_train.sample(), \n",
    "    description=\"Price Predictor\")\n",
    "\n",
    "price_model.save(model_dir)"
   ]
  },
  {
   "cell_type": "markdown",
   "id": "953e5aff",
   "metadata": {},
   "source": [
    "---"
   ]
  }
 ],
 "metadata": {
  "kernelspec": {
   "display_name": "Python 3 (ipykernel)",
   "language": "python",
   "name": "python3"
  },
  "language_info": {
   "codemirror_mode": {
    "name": "ipython",
    "version": 3
   },
   "file_extension": ".py",
   "mimetype": "text/x-python",
   "name": "python",
   "nbconvert_exporter": "python",
   "pygments_lexer": "ipython3",
   "version": "3.9.13"
  }
 },
 "nbformat": 4,
 "nbformat_minor": 5
}
