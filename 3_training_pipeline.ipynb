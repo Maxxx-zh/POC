{
 "cells": [
  {
   "cell_type": "markdown",
   "id": "6c56e407",
   "metadata": {},
   "source": [
    "## <span style=\"color:#ff5f27\">📝 Imports </span>"
   ]
  },
  {
   "cell_type": "code",
   "execution_count": 1,
   "id": "1dd900af",
   "metadata": {},
   "outputs": [],
   "source": [
    "import pandas as pd\n",
    "import numpy as np\n",
    "import xgboost as xgb\n",
    "from sklearn.metrics import mean_squared_error\n",
    "import os\n",
    "import joblib\n",
    "import plotly.io as pio\n",
    "from features.price import plot_prediction_test\n",
    "from functions import predict_id"
   ]
  },
  {
   "cell_type": "markdown",
   "id": "4397c069",
   "metadata": {},
   "source": [
    "## <span style=\"color:#ff5f27\">🔮 Connect to Hopsworks Feature Store </span>"
   ]
  },
  {
   "cell_type": "code",
   "execution_count": 2,
   "id": "1a928aae",
   "metadata": {},
   "outputs": [
    {
     "name": "stdout",
     "output_type": "stream",
     "text": [
      "Connected. Call `.close()` to terminate connection gracefully.\n",
      "\n",
      "Logged in to project, explore it here https://34.34.32.154:443/p/119\n",
      "Connected. Call `.close()` to terminate connection gracefully.\n"
     ]
    }
   ],
   "source": [
    "import hopsworks\n",
    "\n",
    "project = hopsworks.login(\n",
    "    host=\"34.34.32.154\",\n",
    "    project=\"lynx\",\n",
    "    api_key_value=\"bAQw5w2gJPuo3Zha.2o2wR0ewGljAy9wa66pM3AXgYxT7GNz4si4FvhV8GAdj6OySAgI0jE8CKI8tuguj\"\n",
    ")\n",
    "\n",
    "fs = project.get_feature_store() "
   ]
  },
  {
   "cell_type": "code",
   "execution_count": 3,
   "id": "ae9a2fa2",
   "metadata": {},
   "outputs": [],
   "source": [
    "averages_fg = fs.get_or_create_feature_group(\n",
    "    name='averages',\n",
    "    version=1,\n",
    ")\n",
    "\n",
    "prices_fg = fs.get_or_create_feature_group(\n",
    "    name='prices',\n",
    "    version=1,\n",
    ")"
   ]
  },
  {
   "cell_type": "markdown",
   "id": "b8102d06",
   "metadata": {},
   "source": [
    "## <span style=\"color:#ff5f27\">🔪 Feature Selection </span>"
   ]
  },
  {
   "cell_type": "code",
   "execution_count": 5,
   "id": "3891d471",
   "metadata": {},
   "outputs": [],
   "source": [
    "query = prices_fg.select_all() \\\n",
    "    .join(averages_fg.select_except(['date']))\n",
    "#query.show(5)"
   ]
  },
  {
   "cell_type": "markdown",
   "id": "de58549d",
   "metadata": {},
   "source": [
    "## <span style=\"color:#ff5f27\">🤖 Transformation Functions </span>"
   ]
  },
  {
   "cell_type": "code",
   "execution_count": 8,
   "id": "c6355d3c",
   "metadata": {},
   "outputs": [
    {
     "data": {
      "text/plain": [
       "{'ma_7': <hsfs.transformation_function.TransformationFunction at 0x7fb39e341100>,\n",
       " 'ma_14': <hsfs.transformation_function.TransformationFunction at 0x7fb39e341100>,\n",
       " 'ma_30': <hsfs.transformation_function.TransformationFunction at 0x7fb39e341100>,\n",
       " 'daily_rate_of_change': <hsfs.transformation_function.TransformationFunction at 0x7fb39e341100>,\n",
       " 'volatility_30_day': <hsfs.transformation_function.TransformationFunction at 0x7fb39e341100>,\n",
       " 'ema_02': <hsfs.transformation_function.TransformationFunction at 0x7fb39e341100>,\n",
       " 'ema_05': <hsfs.transformation_function.TransformationFunction at 0x7fb39e341100>,\n",
       " 'rsi': <hsfs.transformation_function.TransformationFunction at 0x7fb39e341100>}"
      ]
     },
     "execution_count": 8,
     "metadata": {},
     "output_type": "execute_result"
    }
   ],
   "source": [
    "# Load transformation function\n",
    "min_max_scaler = fs.get_transformation_function(name=\"min_max_scaler\")\n",
    "\n",
    "feature_names = [\n",
    "    'ma_7', 'ma_14', 'ma_30', 'daily_rate_of_change', 'volatility_30_day', 'ema_02', 'ema_05', 'rsi'\n",
    "]\n",
    "\n",
    "# Map features to transformations\n",
    "transformation_functions = {\n",
    "    feature_name: min_max_scaler\n",
    "    for feature_name in feature_names\n",
    "}\n",
    "transformation_functions"
   ]
  },
  {
   "cell_type": "markdown",
   "id": "1808514c",
   "metadata": {},
   "source": [
    "## <span style=\"color:#ff5f27\">⚙️ Feature View Creation </span>"
   ]
  },
  {
   "cell_type": "code",
   "execution_count": 10,
   "id": "b16ade33",
   "metadata": {},
   "outputs": [
    {
     "ename": "FeatureStoreException",
     "evalue": "Feature name 'price' could not found be found in query.",
     "output_type": "error",
     "traceback": [
      "\u001b[0;31m---------------------------------------------------------------------------\u001b[0m",
      "\u001b[0;31mFeatureStoreException\u001b[0m                     Traceback (most recent call last)",
      "Cell \u001b[0;32mIn[10], line 1\u001b[0m\n\u001b[0;32m----> 1\u001b[0m feature_view \u001b[38;5;241m=\u001b[39m \u001b[43mfs\u001b[49m\u001b[38;5;241;43m.\u001b[39;49m\u001b[43mcreate_feature_view\u001b[49m\u001b[43m(\u001b[49m\n\u001b[1;32m      2\u001b[0m \u001b[43m    \u001b[49m\u001b[43mname\u001b[49m\u001b[38;5;241;43m=\u001b[39;49m\u001b[38;5;124;43m'\u001b[39;49m\u001b[38;5;124;43mprice_fv\u001b[39;49m\u001b[38;5;124;43m'\u001b[39;49m\u001b[43m,\u001b[49m\n\u001b[1;32m      3\u001b[0m \u001b[43m    \u001b[49m\u001b[43mversion\u001b[49m\u001b[38;5;241;43m=\u001b[39;49m\u001b[38;5;241;43m1\u001b[39;49m\u001b[43m,\u001b[49m\n\u001b[1;32m      4\u001b[0m \u001b[43m    \u001b[49m\u001b[43mquery\u001b[49m\u001b[38;5;241;43m=\u001b[39;49m\u001b[43mquery\u001b[49m\u001b[43m,\u001b[49m\n\u001b[1;32m      5\u001b[0m \u001b[43m    \u001b[49m\u001b[43mlabels\u001b[49m\u001b[38;5;241;43m=\u001b[39;49m\u001b[43m[\u001b[49m\u001b[38;5;124;43m\"\u001b[39;49m\u001b[38;5;124;43mprice\u001b[39;49m\u001b[38;5;124;43m\"\u001b[39;49m\u001b[43m]\u001b[49m\u001b[43m,\u001b[49m\n\u001b[1;32m      6\u001b[0m \u001b[43m    \u001b[49m\u001b[43mtransformation_functions\u001b[49m\u001b[38;5;241;43m=\u001b[39;49m\u001b[43mtransformation_functions\u001b[49m\u001b[43m,\u001b[49m\n\u001b[1;32m      7\u001b[0m \u001b[43m)\u001b[49m\n",
      "File \u001b[0;32m/opt/anaconda3/lib/python3.9/site-packages/hsfs/feature_store.py:1454\u001b[0m, in \u001b[0;36mFeatureStore.create_feature_view\u001b[0;34m(self, name, query, version, description, labels, transformation_functions)\u001b[0m\n\u001b[1;32m   1372\u001b[0m \u001b[38;5;250m\u001b[39m\u001b[38;5;124;03m\"\"\"Create a feature view metadata object and saved it to hopsworks.\u001b[39;00m\n\u001b[1;32m   1373\u001b[0m \n\u001b[1;32m   1374\u001b[0m \u001b[38;5;124;03m!!! example\u001b[39;00m\n\u001b[0;32m   (...)\u001b[0m\n\u001b[1;32m   1443\u001b[0m \u001b[38;5;124;03m    `FeatureView`: The feature view metadata object.\u001b[39;00m\n\u001b[1;32m   1444\u001b[0m \u001b[38;5;124;03m\"\"\"\u001b[39;00m\n\u001b[1;32m   1445\u001b[0m feat_view \u001b[38;5;241m=\u001b[39m feature_view\u001b[38;5;241m.\u001b[39mFeatureView(\n\u001b[1;32m   1446\u001b[0m     name\u001b[38;5;241m=\u001b[39mname,\n\u001b[1;32m   1447\u001b[0m     query\u001b[38;5;241m=\u001b[39mquery,\n\u001b[0;32m   (...)\u001b[0m\n\u001b[1;32m   1452\u001b[0m     transformation_functions\u001b[38;5;241m=\u001b[39mtransformation_functions,\n\u001b[1;32m   1453\u001b[0m )\n\u001b[0;32m-> 1454\u001b[0m \u001b[38;5;28;01mreturn\u001b[39;00m \u001b[38;5;28;43mself\u001b[39;49m\u001b[38;5;241;43m.\u001b[39;49m\u001b[43m_feature_view_engine\u001b[49m\u001b[38;5;241;43m.\u001b[39;49m\u001b[43msave\u001b[49m\u001b[43m(\u001b[49m\u001b[43mfeat_view\u001b[49m\u001b[43m)\u001b[49m\n",
      "File \u001b[0;32m/opt/anaconda3/lib/python3.9/site-packages/hsfs/core/feature_view_engine.py:73\u001b[0m, in \u001b[0;36mFeatureViewEngine.save\u001b[0;34m(self, feature_view_obj)\u001b[0m\n\u001b[1;32m     67\u001b[0m \u001b[38;5;28;01mif\u001b[39;00m feature_view_obj\u001b[38;5;241m.\u001b[39mlabels:\n\u001b[1;32m     68\u001b[0m     \u001b[38;5;28;01mfor\u001b[39;00m label_name \u001b[38;5;129;01min\u001b[39;00m feature_view_obj\u001b[38;5;241m.\u001b[39mlabels:\n\u001b[1;32m     69\u001b[0m         (\n\u001b[1;32m     70\u001b[0m             feature,\n\u001b[1;32m     71\u001b[0m             prefix,\n\u001b[1;32m     72\u001b[0m             featuregroup,\n\u001b[0;32m---> 73\u001b[0m         ) \u001b[38;5;241m=\u001b[39m \u001b[43mfeature_view_obj\u001b[49m\u001b[38;5;241;43m.\u001b[39;49m\u001b[43mquery\u001b[49m\u001b[38;5;241;43m.\u001b[39;49m\u001b[43m_get_feature_by_name\u001b[49m\u001b[43m(\u001b[49m\u001b[43mlabel_name\u001b[49m\u001b[43m)\u001b[49m\n\u001b[1;32m     74\u001b[0m         feature_view_obj\u001b[38;5;241m.\u001b[39m_features\u001b[38;5;241m.\u001b[39mappend(\n\u001b[1;32m     75\u001b[0m             training_dataset_feature\u001b[38;5;241m.\u001b[39mTrainingDatasetFeature(\n\u001b[1;32m     76\u001b[0m                 name\u001b[38;5;241m=\u001b[39mfeature\u001b[38;5;241m.\u001b[39mname,\n\u001b[0;32m   (...)\u001b[0m\n\u001b[1;32m     79\u001b[0m             )\n\u001b[1;32m     80\u001b[0m         )\n\u001b[1;32m     81\u001b[0m \u001b[38;5;28mself\u001b[39m\u001b[38;5;241m.\u001b[39m_transformation_function_engine\u001b[38;5;241m.\u001b[39mattach_transformation_fn(feature_view_obj)\n",
      "File \u001b[0;32m/opt/anaconda3/lib/python3.9/site-packages/hsfs/constructor/query.py:627\u001b[0m, in \u001b[0;36mQuery._get_feature_by_name\u001b[0;34m(self, feature_name)\u001b[0m\n\u001b[1;32m    622\u001b[0m             query_features[name_with_prefix] \u001b[38;5;241m=\u001b[39m query_features\u001b[38;5;241m.\u001b[39mget(\n\u001b[1;32m    623\u001b[0m                 name_with_prefix, []\n\u001b[1;32m    624\u001b[0m             ) \u001b[38;5;241m+\u001b[39m [feature_entry]\n\u001b[1;32m    626\u001b[0m \u001b[38;5;28;01mif\u001b[39;00m feature_name \u001b[38;5;129;01mnot\u001b[39;00m \u001b[38;5;129;01min\u001b[39;00m query_features:\n\u001b[0;32m--> 627\u001b[0m     \u001b[38;5;28;01mraise\u001b[39;00m FeatureStoreException(\n\u001b[1;32m    628\u001b[0m         Query\u001b[38;5;241m.\u001b[39mERROR_MESSAGE_FEATURE_NOT_FOUND\u001b[38;5;241m.\u001b[39mformat(feature_name)\n\u001b[1;32m    629\u001b[0m     )\n\u001b[1;32m    631\u001b[0m \u001b[38;5;66;03m# return (feature, prefix, fg) tuple, if only one match was found\u001b[39;00m\n\u001b[1;32m    632\u001b[0m feats \u001b[38;5;241m=\u001b[39m query_features[feature_name]\n",
      "\u001b[0;31mFeatureStoreException\u001b[0m: Feature name 'price' could not found be found in query."
     ]
    }
   ],
   "source": [
    "feature_view = fs.get_or_create_feature_view(\n",
    "    name='price_fv',\n",
    "    version=1,\n",
    "    query=query,\n",
    "    labels=[\"price\"],\n",
    "    transformation_functions=transformation_functions,\n",
    ")"
   ]
  },
  {
   "cell_type": "markdown",
   "id": "fdf7a927",
   "metadata": {},
   "source": [
    "## <span style=\"color:#ff5f27\">🏋️ Training Dataset Creation </span>"
   ]
  },
  {
   "cell_type": "code",
   "execution_count": null,
   "id": "95615234",
   "metadata": {},
   "outputs": [],
   "source": [
    "X_train, X_test, y_train, y_test = feature_view.train_test_split(\n",
    "    description='Prices Dataset',\n",
    "    train_start='2022-09-01',\n",
    "    train_end='2023-07-01',\n",
    "    test_start='2023-07-01',\n",
    "    test_end=datetime.today().strftime(\"%Y-%m-%d\"),\n",
    ")"
   ]
  },
  {
   "cell_type": "code",
   "execution_count": null,
   "id": "1aecf01b",
   "metadata": {},
   "outputs": [],
   "source": [
    "X_train.head()"
   ]
  },
  {
   "cell_type": "code",
   "execution_count": null,
   "id": "d90cc12a",
   "metadata": {},
   "outputs": [],
   "source": [
    "y_train.head()"
   ]
  },
  {
   "cell_type": "code",
   "execution_count": null,
   "id": "05d02fe4",
   "metadata": {},
   "outputs": [],
   "source": [
    "X_train = X_train.sort_values(\"date\")\n",
    "y_train = y_train.reindex(X_train.index)\n",
    "\n",
    "X_test = X_test.sort_values(\"date\")\n",
    "y_test = y_test.reindex(X_test.index)\n",
    "\n",
    "train_date = pd.DataFrame(X_train.pop(\"date\"))\n",
    "test_date = pd.DataFrame(X_test.pop(\"date\"))"
   ]
  },
  {
   "cell_type": "markdown",
   "id": "3aeab5b9",
   "metadata": {},
   "source": [
    "## <span style=\"color:#ff5f27\">🧬 Modeling </span>\n",
    "\n",
    "We will use the XGBoost Regressor. XGBoost regressor is a powerful and highly effective machine learning algorithm for regression problems. XGBoost is known for its ability to handle complex relationships in the data, handle missing values, and provide accurate predictions. It's a popular choice in the data science community due to its robustness and excellent predictive performance, making it well-suited for our specific problem."
   ]
  },
  {
   "cell_type": "code",
   "execution_count": null,
   "id": "b71e8448",
   "metadata": {},
   "outputs": [],
   "source": [
    "# Initialize the XGBoost regressor\n",
    "model = xgb.XGBRegressor()\n",
    "\n",
    "# Train the model on the training data\n",
    "model.fit(X_train, y_train)\n",
    "\n",
    "# Make predictions on the validation set\n",
    "y_test_pred = model.predict(X_test)\n",
    "\n",
    "# Calculate RMSE on the validation set\n",
    "mse = mean_squared_error(y_test, y_test_pred, squared=False)\n",
    "print(f\"Mean Squared Error (MSE): {mse}\")"
   ]
  },
  {
   "cell_type": "code",
   "execution_count": null,
   "id": "868c9202",
   "metadata": {},
   "outputs": [],
   "source": [
    "prediction_for_id = predict_id(1, X_test, model)\n",
    "\n",
    "fig = plot_prediction_test(1, X_train, X_test, y_train, y_test, train_date, test_date, prediction_for_id)\n",
    "fig.show()"
   ]
  },
  {
   "cell_type": "markdown",
   "id": "bc6e8ba3",
   "metadata": {},
   "source": [
    "## <span style=\"color:#ff5f27\">⚙️ Model Schema </span>"
   ]
  },
  {
   "cell_type": "code",
   "execution_count": null,
   "id": "de422acf",
   "metadata": {},
   "outputs": [],
   "source": [
    "from hsml.schema import Schema\n",
    "from hsml.model_schema import ModelSchema\n",
    "\n",
    "input_schema = Schema(X_train.values)\n",
    "output_schema = Schema(y_train)\n",
    "model_schema = ModelSchema(input_schema=input_schema, output_schema=output_schema)\n",
    "\n",
    "model_schema.to_dict()"
   ]
  },
  {
   "cell_type": "markdown",
   "id": "cc799f5f",
   "metadata": {},
   "source": [
    "## <span style=\"color:#ff5f27\">📝 Register model </span>"
   ]
  },
  {
   "cell_type": "code",
   "execution_count": null,
   "id": "cc42b4b4",
   "metadata": {},
   "outputs": [],
   "source": [
    "model_dir=\"price_model\"\n",
    "if os.path.isdir(model_dir) == False:\n",
    "    os.mkdir(model_dir)\n",
    "\n",
    "joblib.dump(model, model_dir + '/xgboost_price_model.pkl')\n",
    "fig.write_image(f'{model_dir}/model_prediction.png')"
   ]
  },
  {
   "cell_type": "code",
   "execution_count": null,
   "id": "99faff7b",
   "metadata": {},
   "outputs": [],
   "source": [
    "mr = project.get_model_registry()\n",
    "\n",
    "price_model = mr.python.create_model(\n",
    "    name=\"xgboost_price_model\", \n",
    "    metrics={\"MSE\": mse},\n",
    "    model_schema=model_schema,\n",
    "    input_example=X_train.sample(), \n",
    "    description=\"Price Predictor\")\n",
    "\n",
    "price_model.save(model_dir)"
   ]
  },
  {
   "cell_type": "markdown",
   "id": "953e5aff",
   "metadata": {},
   "source": [
    "## <span style=\"color:#ff5f27\">🚀 Model Deployment</span>\n",
    "\n",
    "**About Model Serving**\n",
    "\n",
    "Models can be served via KFServing or \"default\" serving, which means a Docker container exposing a Flask server. For KFServing models, or models written in Tensorflow, you do not need to write a prediction file (see the section below). However, for sklearn models using default serving, you do need to proceed to write a prediction file.\n",
    "\n",
    "In order to use KFServing, you must have Kubernetes installed and enabled on your cluster."
   ]
  },
  {
   "cell_type": "markdown",
   "id": "3098fc1b",
   "metadata": {},
   "source": [
    "## <span style=\"color:#ff5f27\">📎 Predictor script for Python models</span>\n",
    "\n",
    "Scikit-learn and XGBoost models are deployed as Python models, in which case you need to provide a Predict class that implements the predict method. The `predict()` method invokes the model on the inputs and returns the prediction as a list.\n",
    "\n",
    "The `init()` method is run when the predictor is loaded into memory, loading the model from the local directory it is materialized to, ARTIFACT_FILES_PATH.\n",
    "\n",
    "The directive **\"%%writefile\"** writes out the cell before to the given Python file. We will use the **predict_example.py** file to create a deployment for our model."
   ]
  },
  {
   "cell_type": "code",
   "execution_count": null,
   "id": "fb1ed9c6",
   "metadata": {},
   "outputs": [],
   "source": [
    "%%writefile predict_example.py\n",
    "import os\n",
    "import numpy as np\n",
    "import hsfs\n",
    "import joblib\n",
    "\n",
    "\n",
    "class Predict(object):\n",
    "\n",
    "    def __init__(self):\n",
    "        \"\"\" Initializes the serving state, reads a trained model\"\"\"        \n",
    "        # get feature store handle\n",
    "        fs_conn = hsfs.connection()\n",
    "        self.fs = fs_conn.get_feature_store()\n",
    "        \n",
    "        # get feature view\n",
    "        self.fv = self.fs.get_feature_view(\"price_fv\", 1)\n",
    "        \n",
    "        # initialize serving\n",
    "        self.fv.init_serving(1)\n",
    "\n",
    "        # load the trained model\n",
    "        self.model = joblib.load(os.environ[\"ARTIFACT_FILES_PATH\"] + \"/xgboost_price_model.pkl\")\n",
    "        print(\"Initialization Complete\")\n",
    "\n",
    "    def predict(self, inputs):\n",
    "        \"\"\" Serves a prediction request usign a trained model\"\"\"\n",
    "        print(inputs)\n",
    "        print(inputs[0][0])\n",
    "        feature_vector = self.fv.get_feature_vector({\"id\": inputs[0][0]})\n",
    "        return self.model.predict(np.asarray(feature_vector).reshape(1, -1)).tolist() "
   ]
  },
  {
   "cell_type": "markdown",
   "id": "71130838",
   "metadata": {},
   "source": [
    "This script needs to be put into a known location in the Hopsworks file system. Let's call the file predict_example.py and put it in the Models directory."
   ]
  },
  {
   "cell_type": "code",
   "execution_count": null,
   "id": "928b0031",
   "metadata": {},
   "outputs": [],
   "source": [
    "dataset_api = project.get_dataset_api()\n",
    "\n",
    "uploaded_file_path = dataset_api.upload(\"predict_example.py\", \"Models\", overwrite=True)\n",
    "predictor_script_path = os.path.join(\"/Projects\", project.name, uploaded_file_path)"
   ]
  },
  {
   "cell_type": "markdown",
   "id": "c5273545",
   "metadata": {},
   "source": [
    "## <span style=\"color:#ff5f27\">🚀 Create the deployment</span>\n",
    "\n",
    "Here, you fetch the model you want from the model registry and define a configuration for the deployment. For the configuration, you need to specify the serving type (default or KFserving)."
   ]
  },
  {
   "cell_type": "code",
   "execution_count": null,
   "id": "92c176ae",
   "metadata": {},
   "outputs": [],
   "source": [
    "deployment = price_model.deploy(\n",
    "    name=\"priceonlinemodeldeployment\",\n",
    "    script_file=predictor_script_path\n",
    ")"
   ]
  },
  {
   "cell_type": "code",
   "execution_count": null,
   "id": "ac15201a",
   "metadata": {},
   "outputs": [],
   "source": [
    "deployment.start(await_running=180)"
   ]
  },
  {
   "cell_type": "code",
   "execution_count": null,
   "id": "b5582773",
   "metadata": {},
   "outputs": [],
   "source": [
    "deployment.get_state().describe()"
   ]
  },
  {
   "cell_type": "markdown",
   "id": "2f618515",
   "metadata": {},
   "source": [
    "---"
   ]
  }
 ],
 "metadata": {
  "kernelspec": {
   "display_name": "Python 3 (ipykernel)",
   "language": "python",
   "name": "python3"
  },
  "language_info": {
   "codemirror_mode": {
    "name": "ipython",
    "version": 3
   },
   "file_extension": ".py",
   "mimetype": "text/x-python",
   "name": "python",
   "nbconvert_exporter": "python",
   "pygments_lexer": "ipython3",
   "version": "3.9.13"
  }
 },
 "nbformat": 4,
 "nbformat_minor": 5
}
