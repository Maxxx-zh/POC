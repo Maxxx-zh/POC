{
 "cells": [
  {
   "cell_type": "markdown",
   "id": "2a33579d",
   "metadata": {},
   "source": [
    "## <span style=\"color:#ff5f27\">📝 Imports </span>"
   ]
  },
  {
   "cell_type": "code",
   "execution_count": null,
   "id": "04f9ca61",
   "metadata": {},
   "outputs": [],
   "source": [
    "from features.averages import calculate_second_order_features"
   ]
  },
  {
   "cell_type": "markdown",
   "id": "278b4bc3",
   "metadata": {},
   "source": [
    "## <span style=\"color:#ff5f27\">🔮 Connect to Hopsworks Feature Store </span>"
   ]
  },
  {
   "cell_type": "code",
   "execution_count": null,
   "id": "8431a932",
   "metadata": {},
   "outputs": [],
   "source": [
    "import hopsworks\n",
    "\n",
    "project = hopsworks.login()\n",
    "\n",
    "fs = project.get_feature_store() "
   ]
  },
  {
   "cell_type": "markdown",
   "id": "bbb27061",
   "metadata": {},
   "source": [
    "## <span style=\"color:#ff5f27\">🗄️ Read Data from Feature Group </span>"
   ]
  },
  {
   "cell_type": "code",
   "execution_count": null,
   "id": "63653601",
   "metadata": {},
   "outputs": [],
   "source": [
    "prices_fg = fs.get_or_create_feature_group(\n",
    "    name='prices',\n",
    "    version=1,\n",
    ")\n",
    "prices_df = prices_fg.read()\n",
    "prices_df.head(5)"
   ]
  },
  {
   "cell_type": "markdown",
   "id": "6ac968dc",
   "metadata": {},
   "source": [
    "## <span style=\"color:#ff5f27\">⚙️ Feature Engineering  </span>"
   ]
  },
  {
   "cell_type": "code",
   "execution_count": null,
   "id": "295f4e74",
   "metadata": {},
   "outputs": [],
   "source": [
    "averages_df = calculate_second_order_features(prices_df)\n",
    "averages_df.head()"
   ]
  },
  {
   "cell_type": "markdown",
   "id": "1ee4ef28",
   "metadata": {},
   "source": [
    "## <span style=\"color:#ff5f27\">🪄 Feature Group Creation </span>"
   ]
  },
  {
   "cell_type": "code",
   "execution_count": null,
   "id": "237a630f",
   "metadata": {},
   "outputs": [],
   "source": [
    "averages_fg = fs.get_or_create_feature_group(\n",
    "    name='averages',\n",
    "    description='Calculated second order features',\n",
    "    version=1,\n",
    "    primary_key=['id'],\n",
    "    event_time='date',\n",
    "    online_enabled=True,\n",
    ")\n",
    "averages_fg.insert(averages_df)"
   ]
  },
  {
   "cell_type": "markdown",
   "id": "227d58c8",
   "metadata": {},
   "source": [
    "---"
   ]
  }
 ],
 "metadata": {
  "kernelspec": {
   "display_name": "Python 3 (ipykernel)",
   "language": "python",
   "name": "python3"
  },
  "language_info": {
   "codemirror_mode": {
    "name": "ipython",
    "version": 3
   },
   "file_extension": ".py",
   "mimetype": "text/x-python",
   "name": "python",
   "nbconvert_exporter": "python",
   "pygments_lexer": "ipython3",
   "version": "3.9.13"
  }
 },
 "nbformat": 4,
 "nbformat_minor": 5
}
