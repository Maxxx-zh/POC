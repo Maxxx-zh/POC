{
 "cells": [
  {
   "cell_type": "markdown",
   "id": "125ccc0f",
   "metadata": {},
   "source": [
    "## <span style=\"color:#ff5f27\">📝 Imports </span>"
   ]
  },
  {
   "cell_type": "code",
   "execution_count": null,
   "id": "667230d2",
   "metadata": {},
   "outputs": [],
   "source": [
    "from features.price import generate_today"
   ]
  },
  {
   "cell_type": "markdown",
   "id": "6fbc512a",
   "metadata": {},
   "source": [
    "## <span style=\"color:#ff5f27\">⚙️ Data Generation </span>"
   ]
  },
  {
   "cell_type": "code",
   "execution_count": null,
   "id": "44bbc4f5",
   "metadata": {},
   "outputs": [],
   "source": [
    "generated_data_today = generate_today()\n",
    "generated_data_today.head(3)"
   ]
  },
  {
   "cell_type": "markdown",
   "id": "fc789757",
   "metadata": {},
   "source": [
    "## <span style=\"color:#ff5f27\">🔮 Connect to Hopsworks Feature Store </span>"
   ]
  },
  {
   "cell_type": "code",
   "execution_count": null,
   "id": "03912f06",
   "metadata": {},
   "outputs": [],
   "source": [
    "import hopsworks\n",
    "\n",
    "project = hopsworks.login()\n",
    "\n",
    "fs = project.get_feature_store() "
   ]
  },
  {
   "cell_type": "code",
   "execution_count": null,
   "id": "f453e825",
   "metadata": {},
   "outputs": [],
   "source": [
    "prices_fg = fs.get_or_create_feature_group(\n",
    "    name='prices',\n",
    "    version=1,\n",
    ")"
   ]
  },
  {
   "cell_type": "markdown",
   "id": "617076fa",
   "metadata": {},
   "source": [
    "## <span style=\"color:#ff5f27\">⬆️ Upload new data to the Feature Store </span>"
   ]
  },
  {
   "cell_type": "code",
   "execution_count": null,
   "id": "00c0f26e",
   "metadata": {},
   "outputs": [],
   "source": [
    "prices_fg.insert(generated_data_today)"
   ]
  },
  {
   "cell_type": "markdown",
   "id": "92185902",
   "metadata": {},
   "source": [
    "---"
   ]
  }
 ],
 "metadata": {
  "kernelspec": {
   "display_name": "Python 3 (ipykernel)",
   "language": "python",
   "name": "python3"
  },
  "language_info": {
   "codemirror_mode": {
    "name": "ipython",
    "version": 3
   },
   "file_extension": ".py",
   "mimetype": "text/x-python",
   "name": "python",
   "nbconvert_exporter": "python",
   "pygments_lexer": "ipython3",
   "version": "3.9.13"
  }
 },
 "nbformat": 4,
 "nbformat_minor": 5
}
